{
  "cells": [
    {
      "cell_type": "markdown",
      "metadata": {},
      "source": [
        "# Dataset Health Check — `price_nok_total` & `carbon_kg_total`\n",
        "\n",
        "This notebook:\n",
        "1. Loads your dataset (default: `../data/openfoodfacts/step10.csv`).\n",
        "2. Checks for **null values** in `price_nok_total` and `carbon_kg_total`.\n",
        "3. Finds which **product_name** is most expensive in **NOK** and in **CO₂**.\n",
        "\n",
        "**Tip:** Adjust the `DATA_PATH` below if your file lives elsewhere."
      ]
    },
    {
      "cell_type": "code",
      "execution_count": 5,
      "metadata": {},
      "outputs": [
        {
          "name": "stdout",
          "output_type": "stream",
          "text": [
            "Reading: ..\\..\\data\\openfoodfacts\\step10.csv\n",
            "Rows: 80817 | Cols: 20\n",
            "Columns: ['created_datetime', 'product_name', 'food_groups', 'energy-kcal_100g', 'energy_100g', 'fat_100g', 'saturated-fat_100g', 'carbohydrates_100g', 'sugars_100g', 'fiber_100g', 'proteins_100g', 'salt_100g', 'ingredients_tags', 'nutriscore_score', 'nutriscore_grade', 'created_t', 'energy-kj_100g', 'sodium_100g', 'price_nok_total', 'carbon_kg_total']\n"
          ]
        }
      ],
      "source": [
        "import pandas as pd\n",
        "import numpy as np\n",
        "from pathlib import Path\n",
        "\n",
        "# ---- Config ----\n",
        "DATA_PATH = Path('../../data/openfoodfacts/step10.csv')\n",
        "REQ_COLS = ['product_name', 'price_nok_total', 'carbon_kg_total']\n",
        "\n",
        "print('Reading:', DATA_PATH)\n",
        "df = pd.read_csv(DATA_PATH, low_memory=False)\n",
        "print('Rows:', len(df), '| Cols:', len(df.columns))\n",
        "print('Columns:', list(df.columns))"
      ]
    },
    {
      "cell_type": "code",
      "execution_count": 6,
      "metadata": {},
      "outputs": [
        {
          "name": "stdout",
          "output_type": "stream",
          "text": [
            "\n",
            "Null counts:\n"
          ]
        },
        {
          "data": {
            "text/html": [
              "<div>\n",
              "<style scoped>\n",
              "    .dataframe tbody tr th:only-of-type {\n",
              "        vertical-align: middle;\n",
              "    }\n",
              "\n",
              "    .dataframe tbody tr th {\n",
              "        vertical-align: top;\n",
              "    }\n",
              "\n",
              "    .dataframe thead th {\n",
              "        text-align: right;\n",
              "    }\n",
              "</style>\n",
              "<table border=\"1\" class=\"dataframe\">\n",
              "  <thead>\n",
              "    <tr style=\"text-align: right;\">\n",
              "      <th></th>\n",
              "      <th>null_count</th>\n",
              "    </tr>\n",
              "  </thead>\n",
              "  <tbody>\n",
              "    <tr>\n",
              "      <th>price_nok_total</th>\n",
              "      <td>0</td>\n",
              "    </tr>\n",
              "    <tr>\n",
              "      <th>carbon_kg_total</th>\n",
              "      <td>0</td>\n",
              "    </tr>\n",
              "  </tbody>\n",
              "</table>\n",
              "</div>"
            ],
            "text/plain": [
              "                 null_count\n",
              "price_nok_total           0\n",
              "carbon_kg_total           0"
            ]
          },
          "metadata": {},
          "output_type": "display_data"
        },
        {
          "name": "stdout",
          "output_type": "stream",
          "text": [
            "\n",
            "Rows with any null in target columns: 0\n"
          ]
        },
        {
          "data": {
            "text/html": [
              "<div>\n",
              "<style scoped>\n",
              "    .dataframe tbody tr th:only-of-type {\n",
              "        vertical-align: middle;\n",
              "    }\n",
              "\n",
              "    .dataframe tbody tr th {\n",
              "        vertical-align: top;\n",
              "    }\n",
              "\n",
              "    .dataframe thead th {\n",
              "        text-align: right;\n",
              "    }\n",
              "</style>\n",
              "<table border=\"1\" class=\"dataframe\">\n",
              "  <thead>\n",
              "    <tr style=\"text-align: right;\">\n",
              "      <th></th>\n",
              "      <th>product_name</th>\n",
              "      <th>price_nok_total</th>\n",
              "      <th>carbon_kg_total</th>\n",
              "    </tr>\n",
              "  </thead>\n",
              "  <tbody>\n",
              "  </tbody>\n",
              "</table>\n",
              "</div>"
            ],
            "text/plain": [
              "Empty DataFrame\n",
              "Columns: [product_name, price_nok_total, carbon_kg_total]\n",
              "Index: []"
            ]
          },
          "metadata": {},
          "output_type": "display_data"
        }
      ],
      "source": [
        "# ---- Basic column checks ----\n",
        "missing = [c for c in REQ_COLS if c not in df.columns]\n",
        "if missing:\n",
        "    raise ValueError(f\"Missing required columns: {missing}\")\n",
        "\n",
        "# Coerce to numeric for safety (won't alter your source file)\n",
        "df['price_nok_total'] = pd.to_numeric(df['price_nok_total'], errors='coerce')\n",
        "df['carbon_kg_total'] = pd.to_numeric(df['carbon_kg_total'], errors='coerce')\n",
        "\n",
        "# ---- Null diagnostics ----\n",
        "nulls = df[['price_nok_total','carbon_kg_total']].isna().sum().rename('null_count')\n",
        "print('\\nNull counts:')\n",
        "display(nulls.to_frame())\n",
        "\n",
        "rows_with_nulls = df[df[['price_nok_total','carbon_kg_total']].isna().any(axis=1)]\n",
        "print('\\nRows with any null in target columns:', len(rows_with_nulls))\n",
        "display(rows_with_nulls[['product_name','price_nok_total','carbon_kg_total']].head(10))"
      ]
    },
    {
      "cell_type": "code",
      "execution_count": 7,
      "metadata": {},
      "outputs": [
        {
          "name": "stdout",
          "output_type": "stream",
          "text": [
            "Most expensive in NOK (by product_name, summed across rows):\n",
            "  'Cookies' -> 19489\n",
            "\n",
            "Highest CO₂ total (by product_name, summed across rows):\n",
            "  'Cookies' -> 349.8\n"
          ]
        }
      ],
      "source": [
        "# ---- Top items by product_name ----\n",
        "# We aggregate by product_name (sum) then pick the largest.\n",
        "agg = df.groupby('product_name', dropna=False)[['price_nok_total','carbon_kg_total']].sum().sort_values('price_nok_total', ascending=False)\n",
        "\n",
        "top_nok_name = agg['price_nok_total'].idxmax()\n",
        "top_nok_val  = agg.loc[top_nok_name, 'price_nok_total']\n",
        "top_co2_name = agg['carbon_kg_total'].idxmax()\n",
        "top_co2_val  = agg.loc[top_co2_name, 'carbon_kg_total']\n",
        "\n",
        "print('Most expensive in NOK (by product_name, summed across rows):')\n",
        "print(f\"  {top_nok_name!r} -> {top_nok_val}\")\n",
        "\n",
        "print('\\nHighest CO₂ total (by product_name, summed across rows):')\n",
        "print(f\"  {top_co2_name!r} -> {top_co2_val}\")"
      ]
    },
    {
      "cell_type": "code",
      "execution_count": 8,
      "metadata": {},
      "outputs": [
        {
          "name": "stdout",
          "output_type": "stream",
          "text": [
            "\n",
            "Top 10 by NOK:\n"
          ]
        },
        {
          "data": {
            "text/html": [
              "<div>\n",
              "<style scoped>\n",
              "    .dataframe tbody tr th:only-of-type {\n",
              "        vertical-align: middle;\n",
              "    }\n",
              "\n",
              "    .dataframe tbody tr th {\n",
              "        vertical-align: top;\n",
              "    }\n",
              "\n",
              "    .dataframe thead th {\n",
              "        text-align: right;\n",
              "    }\n",
              "</style>\n",
              "<table border=\"1\" class=\"dataframe\">\n",
              "  <thead>\n",
              "    <tr style=\"text-align: right;\">\n",
              "      <th></th>\n",
              "      <th>price_nok_total</th>\n",
              "    </tr>\n",
              "    <tr>\n",
              "      <th>product_name</th>\n",
              "      <th></th>\n",
              "    </tr>\n",
              "  </thead>\n",
              "  <tbody>\n",
              "    <tr>\n",
              "      <th>Cookies</th>\n",
              "      <td>19489</td>\n",
              "    </tr>\n",
              "    <tr>\n",
              "      <th>Foie gras de canard entier</th>\n",
              "      <td>14237</td>\n",
              "    </tr>\n",
              "    <tr>\n",
              "      <th>Milk chocolate</th>\n",
              "      <td>13529</td>\n",
              "    </tr>\n",
              "    <tr>\n",
              "      <th>Dark chocolate</th>\n",
              "      <td>13125</td>\n",
              "    </tr>\n",
              "    <tr>\n",
              "      <th>Chocolate candies</th>\n",
              "      <td>12466</td>\n",
              "    </tr>\n",
              "    <tr>\n",
              "      <th>Bloc de foie gras de canard</th>\n",
              "      <td>11813</td>\n",
              "    </tr>\n",
              "    <tr>\n",
              "      <th>Milk Chocolate</th>\n",
              "      <td>11211</td>\n",
              "    </tr>\n",
              "    <tr>\n",
              "      <th>Candy</th>\n",
              "      <td>9943</td>\n",
              "    </tr>\n",
              "    <tr>\n",
              "      <th>Chocolate</th>\n",
              "      <td>8779</td>\n",
              "    </tr>\n",
              "    <tr>\n",
              "      <th>Toaster pastries</th>\n",
              "      <td>7437</td>\n",
              "    </tr>\n",
              "  </tbody>\n",
              "</table>\n",
              "</div>"
            ],
            "text/plain": [
              "                             price_nok_total\n",
              "product_name                                \n",
              "Cookies                                19489\n",
              "Foie gras de canard entier             14237\n",
              "Milk chocolate                         13529\n",
              "Dark chocolate                         13125\n",
              "Chocolate candies                      12466\n",
              "Bloc de foie gras de canard            11813\n",
              "Milk Chocolate                         11211\n",
              "Candy                                   9943\n",
              "Chocolate                               8779\n",
              "Toaster pastries                        7437"
            ]
          },
          "metadata": {},
          "output_type": "display_data"
        },
        {
          "name": "stdout",
          "output_type": "stream",
          "text": [
            "\n",
            "Top 10 by CO₂:\n"
          ]
        },
        {
          "data": {
            "text/html": [
              "<div>\n",
              "<style scoped>\n",
              "    .dataframe tbody tr th:only-of-type {\n",
              "        vertical-align: middle;\n",
              "    }\n",
              "\n",
              "    .dataframe tbody tr th {\n",
              "        vertical-align: top;\n",
              "    }\n",
              "\n",
              "    .dataframe thead th {\n",
              "        text-align: right;\n",
              "    }\n",
              "</style>\n",
              "<table border=\"1\" class=\"dataframe\">\n",
              "  <thead>\n",
              "    <tr style=\"text-align: right;\">\n",
              "      <th></th>\n",
              "      <th>carbon_kg_total</th>\n",
              "    </tr>\n",
              "    <tr>\n",
              "      <th>product_name</th>\n",
              "      <th></th>\n",
              "    </tr>\n",
              "  </thead>\n",
              "  <tbody>\n",
              "    <tr>\n",
              "      <th>Cookies</th>\n",
              "      <td>349.800</td>\n",
              "    </tr>\n",
              "    <tr>\n",
              "      <th>Milk chocolate</th>\n",
              "      <td>280.048</td>\n",
              "    </tr>\n",
              "    <tr>\n",
              "      <th>Chocolate candies</th>\n",
              "      <td>267.654</td>\n",
              "    </tr>\n",
              "    <tr>\n",
              "      <th>Dark chocolate</th>\n",
              "      <td>238.957</td>\n",
              "    </tr>\n",
              "    <tr>\n",
              "      <th>Milk Chocolate</th>\n",
              "      <td>237.458</td>\n",
              "    </tr>\n",
              "    <tr>\n",
              "      <th>Chocolate</th>\n",
              "      <td>171.364</td>\n",
              "    </tr>\n",
              "    <tr>\n",
              "      <th>Frosted sugar cookies</th>\n",
              "      <td>160.584</td>\n",
              "    </tr>\n",
              "    <tr>\n",
              "      <th>Frosted Sugar Cookies</th>\n",
              "      <td>148.165</td>\n",
              "    </tr>\n",
              "    <tr>\n",
              "      <th>Dark Chocolate</th>\n",
              "      <td>137.089</td>\n",
              "    </tr>\n",
              "    <tr>\n",
              "      <th>Foie gras de canard entier</th>\n",
              "      <td>132.289</td>\n",
              "    </tr>\n",
              "  </tbody>\n",
              "</table>\n",
              "</div>"
            ],
            "text/plain": [
              "                            carbon_kg_total\n",
              "product_name                               \n",
              "Cookies                             349.800\n",
              "Milk chocolate                      280.048\n",
              "Chocolate candies                   267.654\n",
              "Dark chocolate                      238.957\n",
              "Milk Chocolate                      237.458\n",
              "Chocolate                           171.364\n",
              "Frosted sugar cookies               160.584\n",
              "Frosted Sugar Cookies               148.165\n",
              "Dark Chocolate                      137.089\n",
              "Foie gras de canard entier          132.289"
            ]
          },
          "metadata": {},
          "output_type": "display_data"
        }
      ],
      "source": [
        "# ---- Optional: show the Top 10 tables ----\n",
        "top10_nok = agg.nlargest(10, 'price_nok_total')[['price_nok_total']]\n",
        "top10_co2 = agg.nlargest(10, 'carbon_kg_total')[['carbon_kg_total']]\n",
        "\n",
        "print('\\nTop 10 by NOK:')\n",
        "display(top10_nok)\n",
        "\n",
        "print('\\nTop 10 by CO₂:')\n",
        "display(top10_co2)"
      ]
    }
  ],
  "metadata": {
    "kernelspec": {
      "display_name": "Python 3",
      "language": "python",
      "name": "python3"
    },
    "language_info": {
      "codemirror_mode": {
        "name": "ipython",
        "version": 3
      },
      "file_extension": ".py",
      "mimetype": "text/x-python",
      "name": "python",
      "nbconvert_exporter": "python",
      "pygments_lexer": "ipython3",
      "version": "3.11.0"
    },
    "vscode": {
      "interpreter": {
        "hash": "4647e8f9bb9c23de8158615a764c6ae3466649a5b7984d657ad51295c379afa7"
      }
    }
  },
  "nbformat": 4,
  "nbformat_minor": 5
}
