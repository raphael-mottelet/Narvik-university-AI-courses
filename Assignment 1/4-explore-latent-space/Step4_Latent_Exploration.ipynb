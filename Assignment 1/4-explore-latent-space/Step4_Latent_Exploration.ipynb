{
 "cells": [
  {
   "cell_type": "markdown",
   "id": "4421f201",
   "metadata": {},
   "source": [
    "\n",
    "# Step 4 — Explore the latent space and evaluate (Fixed)\n",
    "\n",
    "This notebook explores the vector space created in the previous step.  \n",
    "It loads your tables, examines the latent representation, groups similar items, proposes new candidates in the latent space, gives them rough scores, and shows concise plots.\n",
    "\n",
    "**What you will do here**\n",
    "1. Load the prepared tables.\n",
    "2. Build a two–dimensional view of the latent space with principal component analysis.\n",
    "3. Group items with a simple k means clustering.\n",
    "4. Propose new candidates by moving along a good direction and by sampling around cluster centers.\n",
    "5. Score the candidates by nearest neighbor matching and rank them.\n",
    "6. Plot only what is needed to understand the results.\n"
   ]
  },
  {
   "cell_type": "markdown",
   "id": "3fa545fd",
   "metadata": {},
   "source": [
    "\n",
    "## Setup\n",
    "\n",
    "The code below imports the libraries, sets file paths, and loads the data.  \n",
    "Change paths if your files live somewhere else.\n"
   ]
  },
  {
   "cell_type": "code",
   "execution_count": null,
   "id": "67ef237d",
   "metadata": {},
   "outputs": [],
   "source": [
    "\n",
    "from pathlib import Path\n",
    "import numpy as np\n",
    "import pandas as pd\n",
    "import matplotlib.pyplot as plt\n",
    "\n",
    "# Paths\n",
    "path_full    = Path('/mnt/data/step13-vector-full.csv')\n",
    "path_latent  = Path('/mnt/data/X_latent.csv')\n",
    "path_recon   = Path('/mnt/data/X_recon_full.csv')  # optional\n",
    "path_ga      = Path('/mnt/data/ga-output.csv')     # optional\n",
    "\n",
    "# Load\n",
    "df_full   = pd.read_csv(path_full)    if path_full.exists() else None\n",
    "df_latent = pd.read_csv(path_latent)  if path_latent.exists() else None\n",
    "df_recon  = pd.read_csv(path_recon)   if path_recon.exists() else None\n",
    "df_ga     = pd.read_csv(path_ga)      if path_ga.exists() else None\n",
    "\n",
    "print('Loaded:')\n",
    "print(' step13-vector-full.csv :', df_full.shape if df_full is not None else 'missing')\n",
    "print(' X_latent.csv           :', df_latent.shape if df_latent is not None else 'missing')\n",
    "print(' X_recon_full.csv       :', df_recon.shape if df_recon is not None else 'missing')\n",
    "print(' ga-output.csv          :', df_ga.shape if df_ga is not None else 'missing')\n"
   ]
  },
  {
   "cell_type": "markdown",
   "id": "b5b0b391",
   "metadata": {},
   "source": [
    "\n",
    "## Helper functions\n",
    "\n",
    "We keep the code simple and self contained:\n",
    "- Two–dimensional principal component analysis.\n",
    "- Small k means.\n",
    "- Min–max scaling.\n",
    "- Nearest neighbor scoring.\n",
    "- Candidate proposal functions that work directly in the latent space.\n"
   ]
  },
  {
   "cell_type": "code",
   "execution_count": null,
   "id": "c6dab20a",
   "metadata": {},
   "outputs": [],
   "source": [
    "\n",
    "import numpy as np\n",
    "\n",
    "def principal_components_2d(X):\n",
    "    X = np.asarray(X, dtype=float)\n",
    "    Xc = X - X.mean(axis=0, keepdims=True)\n",
    "    U, S, Vt = np.linalg.svd(Xc, full_matrices=False)\n",
    "    W = Vt[:2].T\n",
    "    X2 = Xc @ W\n",
    "    return X2, W\n",
    "\n",
    "def kmeans_numpy(X, k=6, iters=60, seed=42):\n",
    "    rng = np.random.default_rng(seed)\n",
    "    X = np.asarray(X, dtype=float)\n",
    "    n = X.shape[0]\n",
    "    idx = rng.choice(n, size=k, replace=False)\n",
    "    C = X[idx].copy()\n",
    "    for _ in range(iters):\n",
    "        d2 = ((X[:, None, :] - C[None, :, :])**2).sum(axis=2)\n",
    "        labels = d2.argmin(axis=1)\n",
    "        newC = np.vstack([X[labels == j].mean(axis=0) if np.any(labels == j) else C[j] for j in range(k)])\n",
    "        if np.allclose(newC, C):\n",
    "            break\n",
    "        C = newC\n",
    "    d2 = ((X[:, None, :] - C[None, :, :])**2).sum(axis=2)\n",
    "    labels = d2.argmin(axis=1)\n",
    "    inertia = float(np.sum((X - C[labels])**2))\n",
    "    return labels, C, inertia\n",
    "\n",
    "def minmax01(x):\n",
    "    x = np.asarray(x, dtype=float)\n",
    "    lo, hi = np.nanmin(x), np.nanmax(x)\n",
    "    if not np.isfinite(lo) or not np.isfinite(hi) or hi <= lo:\n",
    "        return np.zeros_like(x)\n",
    "    return (x - lo) / (hi - lo)\n",
    "\n",
    "def nearest_neighbor_scores(Z_known, scores_df, Z_query, columns=('taste_balance','price_norm','health_score','carbon_norm')):\n",
    "    if scores_df is None or Z_query.size == 0:\n",
    "        return None\n",
    "    cols = [c for c in columns if c in scores_df.columns]\n",
    "    if not cols:\n",
    "        return None\n",
    "    Zk = np.asarray(Z_known, dtype=float)\n",
    "    out = []\n",
    "    for zq in np.asarray(Z_query, dtype=float):\n",
    "        d2 = ((Zk - zq)**2).sum(axis=1)\n",
    "        idx = int(np.argmin(d2))\n",
    "        out.append(scores_df.iloc[idx][cols].to_dict())\n",
    "    return pd.DataFrame(out)\n",
    "\n",
    "def propose_along_direction(Z, score, n_steps=20, step_size=0.5):\n",
    "    ok = np.isfinite(score)\n",
    "    if ok.sum() < 2:\n",
    "        return np.empty((0, Z.shape[1]))\n",
    "    low  = Z[ ok & (score <= np.nanpercentile(score, 25)) ].mean(axis=0)\n",
    "    high = Z[ ok & (score >= np.nanpercentile(score, 75)) ].mean(axis=0)\n",
    "    direction = high - low\n",
    "    nrm = np.linalg.norm(direction)\n",
    "    if nrm < 1e-9:\n",
    "        return np.empty((0, Z.shape[1]))\n",
    "    direction = direction / nrm\n",
    "    steps = np.array([low + (i+1)*step_size*direction for i in range(n_steps)])\n",
    "    return steps\n",
    "\n",
    "def propose_around_centers(centers_latent, n_per=25, noise=0.25, seed=123):\n",
    "    rng = np.random.default_rng(seed)\n",
    "    C = np.asarray(centers_latent, dtype=float)\n",
    "    out = []\n",
    "    for c in C:\n",
    "        eps = rng.normal(0.0, noise, size=(n_per, c.shape[0]))\n",
    "        out.append(c + eps)\n",
    "    return np.vstack(out) if out else np.empty((0, C.shape[1] if C.ndim==2 else 0))\n"
   ]
  },
  {
   "cell_type": "markdown",
   "id": "fda37ad4",
   "metadata": {},
   "source": [
    "\n",
    "## Build a latent matrix\n",
    "\n",
    "We take all columns that start with `z` (for example `z1`, `z2`) and center them by subtracting the mean.\n"
   ]
  },
  {
   "cell_type": "code",
   "execution_count": null,
   "id": "48b4324f",
   "metadata": {},
   "outputs": [],
   "source": [
    "\n",
    "if df_latent is None:\n",
    "    raise RuntimeError(\"Latent table is missing. Please place X_latent.csv at the configured path.\")\n",
    "\n",
    "latent_cols = [c for c in df_latent.columns if str(c).lower().startswith('z')]\n",
    "if not latent_cols:\n",
    "    latent_cols = df_latent.select_dtypes(include=[float, int]).columns.tolist()\n",
    "\n",
    "Z = df_latent[latent_cols].to_numpy(dtype=float)\n",
    "Z = Z - Z.mean(axis=0, keepdims=True)\n",
    "\n",
    "print('Latent matrix shape:', Z.shape)\n",
    "print('Using columns:', latent_cols[:10], '...' if len(latent_cols) > 10 else '')\n"
   ]
  },
  {
   "cell_type": "markdown",
   "id": "0131ae62",
   "metadata": {},
   "source": [
    "\n",
    "## Two–dimensional view of the latent space\n",
    "\n",
    "We build a two–dimensional view with principal component analysis and plot it once.  \n",
    "We color by a simple combined score computed from taste, price, health, and carbon so that the map highlights better areas.\n"
   ]
  },
  {
   "cell_type": "code",
   "execution_count": null,
   "id": "f460b6b4",
   "metadata": {},
   "outputs": [],
   "source": [
    "\n",
    "X2, W = principal_components_2d(Z)\n",
    "\n",
    "tb = df_full['taste_balance'].to_numpy() if (df_full is not None and 'taste_balance' in df_full.columns) else np.zeros(len(Z))\n",
    "pc = (1.0 - df_full['price_norm'].to_numpy()) if (df_full is not None and 'price_norm' in df_full.columns) else np.zeros(len(Z))\n",
    "hs = ((5.0 - df_full['health_score'].to_numpy().astype(float)) / 4.0) if (df_full is not None and 'health_score' in df_full.columns) else np.zeros(len(Z))\n",
    "cg = (1.0 - df_full['carbon_norm'].to_numpy()) if (df_full is not None and 'carbon_norm' in df_full.columns) else np.zeros(len(Z))\n",
    "\n",
    "combined_known = 0.4*tb + 0.2*pc + 0.2*hs + 0.2*cg\n",
    "\n",
    "plt.figure(figsize=(7,5))\n",
    "plt.scatter(X2[:,0], X2[:,1], s=4, c=combined_known)\n",
    "plt.title(\"Latent map colored by combined score\")\n",
    "plt.xlabel(\"component 1\")\n",
    "plt.ylabel(\"component 2\")\n",
    "plt.tight_layout()\n",
    "plt.show()\n"
   ]
  },
  {
   "cell_type": "markdown",
   "id": "b052b624",
   "metadata": {},
   "source": [
    "\n",
    "## Group similar items in latent space\n",
    "\n",
    "We run k means directly on the latent space.  \n",
    "We keep the number of groups small for a clean picture.\n"
   ]
  },
  {
   "cell_type": "code",
   "execution_count": null,
   "id": "30b5c723",
   "metadata": {},
   "outputs": [],
   "source": [
    "\n",
    "best_k = 4\n",
    "labels, centers_Z, inertia = kmeans_numpy(Z, k=best_k, iters=60, seed=42)\n",
    "print(\"Number of groups:\", best_k, \"  Inertia:\", inertia)\n",
    "\n",
    "plt.figure(figsize=(7,5))\n",
    "plt.scatter(X2[:,0], X2[:,1], s=4, c=labels)\n",
    "plt.title(\"Groups shown on the two–dimensional map\")\n",
    "plt.xlabel(\"component 1\")\n",
    "plt.ylabel(\"component 2\")\n",
    "plt.tight_layout()\n",
    "plt.show()\n"
   ]
  },
  {
   "cell_type": "markdown",
   "id": "5596da5a",
   "metadata": {},
   "source": [
    "\n",
    "## Propose new candidates in latent space\n",
    "\n",
    "We use two ideas:\n",
    "1. Move from a low score region toward a high score region along a straight line in the latent space.\n",
    "2. Sample small random points around each group center in the latent space.\n",
    "\n",
    "Everything is done in the latent space to avoid shape mismatches.\n"
   ]
  },
  {
   "cell_type": "code",
   "execution_count": null,
   "id": "decd40c8",
   "metadata": {},
   "outputs": [],
   "source": [
    "\n",
    "steer = df_full['taste_balance'].to_numpy() if (df_full is not None and 'taste_balance' in df_full.columns) else None\n",
    "\n",
    "cand_dir = propose_along_direction(Z, steer, n_steps=30, step_size=0.6) if steer is not None else np.empty((0, Z.shape[1]))\n",
    "cand_grp = propose_around_centers(centers_Z, n_per=25, noise=0.25, seed=123)\n",
    "\n",
    "parts = []\n",
    "if cand_dir.size: parts.append(cand_dir)\n",
    "if cand_grp.size: parts.append(cand_grp)\n",
    "candidates_Z = np.vstack(parts) if parts else np.empty((0, Z.shape[1]))\n",
    "\n",
    "print('Proposed candidates:', candidates_Z.shape)\n"
   ]
  },
  {
   "cell_type": "markdown",
   "id": "a95c63ef",
   "metadata": {},
   "source": [
    "\n",
    "## Score and rank the candidates\n",
    "\n",
    "We assign rough scores by nearest neighbor matching in the latent space.  \n",
    "We then compute a combined score for ranking.\n"
   ]
  },
  {
   "cell_type": "code",
   "execution_count": null,
   "id": "569dd6c8",
   "metadata": {},
   "outputs": [],
   "source": [
    "\n",
    "from IPython.display import display\n",
    "\n",
    "cand_scores = nearest_neighbor_scores(Z, df_full, candidates_Z)\n",
    "if cand_scores is not None and len(cand_scores) > 0:\n",
    "    cand = pd.concat([pd.DataFrame(candidates_Z, columns=[f'z{i+1}' for i in range(candidates_Z.shape[1])]), cand_scores], axis=1)\n",
    "    tb = cand['taste_balance'].to_numpy() if 'taste_balance' in cand.columns else np.zeros(len(cand))\n",
    "    pc = (1.0 - cand['price_norm'].to_numpy()) if 'price_norm' in cand.columns else np.zeros(len(cand))\n",
    "    hs = ((5.0 - cand['health_score'].to_numpy().astype(float)) / 4.0) if 'health_score' in cand.columns else np.zeros(len(cand))\n",
    "    cg = (1.0 - cand['carbon_norm'].to_numpy()) if 'carbon_norm' in cand.columns else np.zeros(len(cand))\n",
    "    cand['combined_score'] = 0.4*tb + 0.2*pc + 0.2*hs + 0.2*cg\n",
    "    cand_sorted = cand.sort_values('combined_score', ascending=False).reset_index(drop=True)\n",
    "    display(cand_sorted.head(10))\n",
    "else:\n",
    "    cand_sorted = pd.DataFrame()\n",
    "    print(\"Could not build candidate scores. Check the input tables.\")\n"
   ]
  },
  {
   "cell_type": "markdown",
   "id": "37705c88",
   "metadata": {},
   "source": [
    "\n",
    "## Where do the best candidates sit on the map?\n",
    "\n",
    "We mark the top candidates on the two–dimensional map for a quick visual check.\n"
   ]
  },
  {
   "cell_type": "code",
   "execution_count": null,
   "id": "7bff1bc0",
   "metadata": {},
   "outputs": [],
   "source": [
    "\n",
    "if len(cand_sorted) > 0:\n",
    "    X2_cand = (candidates_Z - Z.mean(axis=0, keepdims=True)) @ W\n",
    "    plt.figure(figsize=(7,5))\n",
    "    plt.scatter(X2[:,0], X2[:,1], s=4, alpha=0.3)\n",
    "    top_n = min(20, len(X2_cand))\n",
    "    plt.scatter(X2_cand[:top_n,0], X2_cand[:top_n,1], s=50, marker='X')\n",
    "    plt.title(\"Top candidate locations on the map\")\n",
    "    plt.xlabel(\"component 1\")\n",
    "    plt.ylabel(\"component 2\")\n",
    "    plt.tight_layout()\n",
    "    plt.show()\n"
   ]
  },
  {
   "cell_type": "markdown",
   "id": "4da9ca73",
   "metadata": {},
   "source": [
    "\n",
    "## Scores of the top candidates\n",
    "\n",
    "We show a single bar chart for the combined score of the top ten candidates.\n"
   ]
  },
  {
   "cell_type": "code",
   "execution_count": null,
   "id": "ab906be7",
   "metadata": {},
   "outputs": [],
   "source": [
    "\n",
    "if len(cand_sorted) > 0:\n",
    "    top10 = cand_sorted.head(10)\n",
    "    plt.figure(figsize=(7,4))\n",
    "    plt.bar(range(len(top10)), top10['combined_score'])\n",
    "    plt.xticks(range(len(top10)), range(1, len(top10)+1))\n",
    "    plt.title(\"Combined score for top 10 candidates\")\n",
    "    plt.xlabel(\"rank\")\n",
    "    plt.ylabel(\"combined score\")\n",
    "    plt.tight_layout()\n",
    "    plt.show()\n"
   ]
  },
  {
   "cell_type": "markdown",
   "id": "c4e58382",
   "metadata": {},
   "source": [
    "\n",
    "## Notes for your write up\n",
    "\n",
    "- Explain what the two–dimensional map shows and how you read it.\n",
    "- Describe the groups and what seems to make them different.\n",
    "- Explain how you generated candidates and why these two moves make sense.\n",
    "- Discuss the limits of nearest neighbor scoring and what you would improve next.\n"
   ]
  }
 ],
 "metadata": {},
 "nbformat": 4,
 "nbformat_minor": 5
}